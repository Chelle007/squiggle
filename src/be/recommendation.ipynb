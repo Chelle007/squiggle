{
 "cells": [
  {
   "cell_type": "code",
   "execution_count": 1,
   "id": "6ca2b3a8",
   "metadata": {},
   "outputs": [],
   "source": [
    "from flask import Flask, request, jsonify\n",
    "from flask_cors import CORS\n",
    "import os\n",
    "import numpy as np\n",
    "import openai\n",
    "from serpapi import GoogleSearch\n",
    "from dotenv import load_dotenv\n",
    "import json"
   ]
  },
  {
   "cell_type": "code",
   "execution_count": 2,
   "id": "02f98fe4",
   "metadata": {},
   "outputs": [],
   "source": [
    "app = Flask(__name__)\n",
    "CORS(app)\n",
    "\n",
    "load_dotenv()\n",
    "\n",
    "SERP_API_KEY = os.getenv('SERP_API_KEY')\n",
    "OPENAI_API_KEY = os.getenv('OPENAI_API_KEY')\n",
    "gpt_model = \"gpt-4o\""
   ]
  },
  {
   "cell_type": "code",
   "execution_count": 5,
   "id": "df7bc911",
   "metadata": {},
   "outputs": [],
   "source": [
    "def shorten_text(text, min, max):\n",
    "    system_msg = \"You are a helpful assistant that is good at shortening text.\"\n",
    "    prompt = f\"Shorten this text into {min} to {max} (inclusive) words: {text}\"\n",
    "\n",
    "    response = openai.ChatCompletion.create(\n",
    "        model = gpt_model,\n",
    "        api_key = OPENAI_API_KEY,\n",
    "        messages = [\n",
    "            {\"role\": \"system\", \"content\": system_msg},\n",
    "            {\"role\": \"user\", \"content\": prompt}\n",
    "        ]\n",
    "    )\n",
    "    \n",
    "    return response['choices'][0]['message']['content'].strip()\n",
    "\n",
    "def google_shopping_search(query, num_results = 5):\n",
    "    params = {\n",
    "        \"api_key\": SERP_API_KEY,\n",
    "        \"engine\": \"google_shopping\",\n",
    "        \"q\": query,\n",
    "        \"hl\": \"en\",\n",
    "        \"gl\": \"sg\",\n",
    "        \"num\": num_results\n",
    "    }\n",
    "\n",
    "    search = GoogleSearch(params)\n",
    "    results = search.get_dict()\n",
    "    products = []\n",
    "\n",
    "    for item in results.get(\"shopping_results\", []):\n",
    "        product = {\n",
    "            \"name\": shorten_text(item.get(\"title\"), 5, 8),\n",
    "            \"product_url\": item.get(\"link\"),\n",
    "            \"shop_name\": shorten_text(item.get(\"source\"), 1, 3),\n",
    "            \"img_url\": item.get(\"thumbnail\"),\n",
    "            \"price\": item.get(\"price\")\n",
    "        }\n",
    "        products.append(product)\n",
    "\n",
    "    return products"
   ]
  },
  {
   "cell_type": "code",
   "execution_count": 6,
   "id": "99e4bdbc",
   "metadata": {},
   "outputs": [
    {
     "name": "stdout",
     "output_type": "stream",
     "text": [
      "[{'name': 'Premium cotton soft tee, sapphire casual.', 'product_url': 'https://www.lazada.sg/products/premium-cotton-soft-style-tee-shirt-t-shirt-plain-sapphire-casual-business-i1172820747-s4650792699.html?from_gmc=1&fl_tag=1', 'shop_name': 'Lazada SG', 'img_url': 'https://encrypted-tbn0.gstatic.com/shopping?q=tbn:ANd9GcSPEL839QNn2VkIhE6heH0m25Xap9Ne_oObhoJSf-lS9CearoJjyDSCHb0BXtNwXJB4cjUrj0db5T08XcuuND0_bZno_54wfiXRwHmuquyCId5Oh7zgxmq8uQ&usqp=CAE', 'price': '$6.90'}, {'name': 'Navy Blue Gildan Cotton T-Shirt', 'product_url': 'https://shopee.sg/product/151878051/8119085500?gads_t_sig=VTJGc2RHVmtYMTlxTFVSVVRrdENkV1BNaHBLV2lHSzd2WEZjb2w0eUJubFJEajBnMlVMbC9wTFE0TTFGbkRqZGlUSXB5Tm5IcHNIVDVadUcva1ROL2JNMVZNdkpPWHBWWGFwNGg5ZklJREZVdlBvQ0I4NENQS21PdDIyZGZsUE0', 'shop_name': 'Online shopping', 'img_url': 'https://encrypted-tbn1.gstatic.com/shopping?q=tbn:ANd9GcSX7FPYb4eU8NqzkrrSXw6cZNDUnAz5KbjKo24MxizV3S3eWIn2tbss5mqnOZS0ar8v3NyazZIp9_OrLAMlbQR326S5trY94uKlBQXaknwcUdQRxWrjyJcmbg&usqp=CAE', 'price': '$8.70'}, {'name': \"Men's Blue Regular Fit T-shirt, Size M\", 'product_url': 'https://www2.hm.com/en_sg/productpage.0967153026.html?srsltid=AfmBOoqMvRHIcsuMgCVt9GvV5-sDL2GMRlvFOJiaPGCw2smKmbOj6g92tv8', 'shop_name': 'Retailer', 'img_url': 'https://encrypted-tbn0.gstatic.com/shopping?q=tbn:ANd9GcTZxwFB9churZzSUcNKj2irlQnCDn5oewO6xt2lEBOMyiWzUHkvWE5tF5nQ0eCDUvtorCcibA9Lx0KdDS3rYyEMHYpPrwGQEifAAzSBUOGVhKg1Ln9T3hsH4Pg&usqp=CAE', 'price': '$17.90'}, {'name': \"Light Blue Men's XL Round Neck T-Shirt\", 'product_url': 'https://www.zaful.com/men-s-basic-solid-color-round-neck-short-sleeve-t-shirt-p_1264971.html?currency=SGD&cachecurrency=SGD&srsltid=AfmBOooapJSPL77QkrOqsP862wzgCdrktRq4wH2uHMHznseZWLGlizSbgqM', 'shop_name': 'Fashion brand', 'img_url': 'https://encrypted-tbn0.gstatic.com/shopping?q=tbn:ANd9GcRA8YDWZA04vBOzspMkNs8PGrWPCpuSH1qLJxIJeQ987vhK7KK5BToLEdUJl9lD_MmhzKLextNJS3Yb3ElRXX811eoEF-LzK3pwh1vVHCea96mSyJr9txYj&usqp=CAE', 'price': '$18.10'}, {'name': \"Men's Round Neck Tshirt, Imperial Blue\", 'product_url': 'https://www.decathlon.sg/p/men-s-round-neck-tshirt-rm-h036-2620-easy3-s-imperial-blue-yonex-15b8186e-99ba-4f44-8c8e-a6944c5ef8db.html?srsltid=AfmBOoptdBPr14zqmVQpNemlbfskK4xtOG6IJHJvg7VbSm1xRgATNE5BiXY', 'shop_name': 'Decathlon SG', 'img_url': 'https://encrypted-tbn1.gstatic.com/shopping?q=tbn:ANd9GcRjXNFZWhocIjNpURbkZq-o9JSsdEbHBCn-ClH5cPePwZ39PjzoC5dmfLhbWppbn0WfbOpg3M6M8eIW9-tZDy4i7xDc0DXCNCE9Bdttndbu_mcmNoQl8g4P&usqp=CAE', 'price': '$13.50'}]\n"
     ]
    }
   ],
   "source": [
    "print(google_shopping_search(\"blue t shirt\"))"
   ]
  },
  {
   "cell_type": "code",
   "execution_count": 7,
   "id": "24dbd65d",
   "metadata": {},
   "outputs": [],
   "source": [
    "# DUMMY DATA\n",
    "chat_histories = [[{\n",
    "    \"timestamp\": \"10/04/2025, 11:33:21 AM\",\n",
    "    \"message\": \"Hii I am going to travel to Bali next week, do you have any ideas regarding things that I should bring?\"\n",
    "},\n",
    "{\n",
    "    \"timestamp\": \"10/04/2025, 11:33:22 AM\",\n",
    "    \"message\": \"Hmm noted, I don't have sunglasses and hat, maybe I will search for it at Bali.\"\n",
    "},\n",
    "{\n",
    "    \"timestamp\": \"10/04/2025, 11:33:23 AM\",\n",
    "    \"message\": \"Ohhh yeah beach towel! Will buy it later too once I reach Bali.\"\n",
    "},\n",
    "{\n",
    "    \"timestamp\": \"10/04/2025, 11:33:24 AM\",\n",
    "    \"message\": \"Huh pattern? I like flower patterns.\"\n",
    "}]\n",
    "]\n",
    "user_data = {\n",
    "    \"gender\": \"female\",\n",
    "    \"age\": \"19\",\n",
    "    \"favorite_color\": \"white\",\n",
    "    \"favorite_animal\": \"bunny\",\n",
    "}"
   ]
  },
  {
   "cell_type": "code",
   "execution_count": 8,
   "id": "868dd9ce",
   "metadata": {},
   "outputs": [],
   "source": [
    "def sentiment_analysis_with_keyword(chat_histories, user_data, keyword):\n",
    "    system_msg = \"You are a helpful assistant that is good at recommending gift for a person. Based on user's chat history, preference, and the keyword user entered, you must generate a very detailed and effective keyword to be used in serpapi google shopping search api.\"\n",
    "    prompt = f\"Chat history: {chat_histories}\\nUser preference: {user_data}\\nKeyword: {keyword}\"\n",
    "\n",
    "    response = openai.ChatCompletion.create(\n",
    "        model = gpt_model,\n",
    "        api_key = OPENAI_API_KEY,\n",
    "        messages = [\n",
    "            {\"role\": \"system\", \"content\": system_msg},\n",
    "            {\"role\": \"user\", \"content\": prompt}\n",
    "        ]\n",
    "    )\n",
    "    \n",
    "    return response['choices'][0]['message']['content'].strip()"
   ]
  },
  {
   "cell_type": "code",
   "execution_count": 9,
   "id": "b5c9c427",
   "metadata": {},
   "outputs": [
    {
     "name": "stdout",
     "output_type": "stream",
     "text": [
      "\"women's flower pattern sun hat white beach travel accessory\"\n"
     ]
    }
   ],
   "source": [
    "print(sentiment_analysis_with_keyword(chat_histories, user_data, \"hat\"))"
   ]
  },
  {
   "cell_type": "code",
   "execution_count": 26,
   "id": "92a08dba",
   "metadata": {},
   "outputs": [],
   "source": [
    "def generate_recommendation_with_keyword(chat_histories, user_data, keyword):\n",
    "    search_keyword = sentiment_analysis_with_keyword(chat_histories, user_data, keyword)\n",
    "    serpapi_list = google_shopping_search(search_keyword, 5)\n",
    "\n",
    "    return serpapi_list"
   ]
  },
  {
   "cell_type": "code",
   "execution_count": 30,
   "id": "11462020",
   "metadata": {},
   "outputs": [
    {
     "name": "stdout",
     "output_type": "stream",
     "text": [
      "[{'name': \"2020 Women's Big Wave Sunshade Beach Hat\", 'product_url': 'https://shopee.sg/product/311337033/6853638221?gads_t_sig=VTJGc2RHVmtYMTlxTFVSVVRrdENkV1BNaHBLV2lHSzd2WEZjb2w0eUJubjJmMExKa2RtVkxhWTQxczh0cjNha2xwN2pHVTJtb1h5T3g1VldKbTRxME1qOG1BdEsvcTBKVWhDMStYdTlxa2VWMkVRQWxWZ2paYWtLWDEzbjFOSk0', 'shop_name': 'Online marketplace', 'img_url': 'https://encrypted-tbn2.gstatic.com/shopping?q=tbn:ANd9GcQ9XVKxO7jLBt55MwWKSY6mNZzTk0OlX-2t6i64vOZ5FHuUaWDGpYBAM0wMAfUq7MD2lrWwnKfrvvSJ_wHbLQV_ktTPqO8HJXd_0XEV8vk&usqp=CAE', 'price': '$7.12'}, {'name': 'Floral Crochet Detail Straw Hat', 'product_url': 'https://www.luulla.com/product/1829804/handwoven-straw-hat-with-floral-crochet-detail?b_currency=usd&set_b_currency=1&srsltid=AfmBOoqdpvIUsYQo7gAJLfLcXgGkXNwTHTLJPatMWLZR1OcVjY7MhgR2ckY', 'shop_name': 'Luulla Store', 'img_url': 'https://encrypted-tbn0.gstatic.com/shopping?q=tbn:ANd9GcQIkQbEQaTUMMNA2y3FqIbba4M-tsyQjny2XrYzUT6L393N6LU18s89KG1vLVDums-FErTpLRrAVr1rKTNURdIAp0nT5rRh7gV0xdaYDphNM8PbW8Ni7HfU&usqp=CAE', 'price': '$49.48'}, {'name': 'Sun Protection Bucket Hat, Flower Cotton', 'product_url': '#', 'shop_name': 'N/A', 'img_url': 'https://encrypted-tbn0.gstatic.com/shopping?q=tbn:ANd9GcRU0gRpzKtnOnCocVULo1cg2-IJHwbulMIUBWQOTh3wKisVBVtCeSIVzZZ-SdLQOS7T2YrdIvQD6F6eS8uDzmNz5WbOF9dtPt60IZSxZjL4&usqp=CAE', 'price': '$2.67'}, {'name': 'Hand-woven straw hat with big brim.', 'product_url': 'https://shopee.sg/product/1302227030/29055099003?gads_t_sig=VTJGc2RHVmtYMTlxTFVSVVRrdENkWUNoc0pYRkdPRGErZWJkWlQwUGkzYUZSa0RJdUJMM2NqV0VtVGR6a1R4cytBVHo4MVNyZkdncXpzankwK1RtMytRbk4zNEw3eXpoMFN6cjJsRDE2ZHdGcy9uZ1J1QUk0WXNEUkRhWFdHUEg', 'shop_name': 'E-commerce platform', 'img_url': 'https://encrypted-tbn0.gstatic.com/shopping?q=tbn:ANd9GcQ5N1rg_B3s6TvwEPM4Yn1WF__pUnHQzl-NioHElcLcJrzPuX__Ph1lbdbF_QRAvf59nG-VOuMHmCaltOrzVNnml6eJy6U9md23RZX9Ysk&usqp=CAE', 'price': '$24.50'}, {'name': 'Crochet Flower Bucket Hat for Summer Festivals', 'product_url': 'https://vireous.shop/en-nz/products/handmade-flower-crochet-bucket-hat?pr_prod_strat=e5_desc&pr_rec_id=e24df18ba&pr_rec_pid=7955210862808&pr_ref_pid=8219802665176&pr_seq=uniform&srsltid=AfmBOoqaKTuLW8t6ikdsU6hOD3frfgyJGHPLGzXt-sr9Cb8PlwmV6w2XVm4', 'shop_name': 'Vireous Shop', 'img_url': 'https://encrypted-tbn1.gstatic.com/shopping?q=tbn:ANd9GcSVn2Op8fUzZYb4iLIUk1nGfgCrAZwgkr6sJOpJ9had3OB9iQAh1AfoAXPAGmA6GFZRTrFmoZbhPEZ2RszXmrAQkgo_KA9i3VYBK0ePyAcO&usqp=CAE', 'price': '$28.34'}]\n"
     ]
    }
   ],
   "source": [
    "print(generate_recommendation_with_keyword(chat_histories, user_data, \"hat\"))"
   ]
  },
  {
   "cell_type": "code",
   "execution_count": 14,
   "id": "2e426182",
   "metadata": {},
   "outputs": [],
   "source": [
    "def sentiment_analysis_without_keyword(chat_histories, user_data):\n",
    "    system_msg = \"You are a helpful assistant that is good at recommending gifts for a person. Based on user's chat history and preference, you must generate 5 very detailed and effective keywords to be used in serpapi google shopping search api (separated by comma).\"\n",
    "    prompt = f\"Chat history: {chat_histories}\\nUser preference: {user_data}\"\n",
    "\n",
    "    response = openai.ChatCompletion.create(\n",
    "        model = gpt_model,\n",
    "        api_key = OPENAI_API_KEY,\n",
    "        messages = [\n",
    "            {\"role\": \"system\", \"content\": system_msg},\n",
    "            {\"role\": \"user\", \"content\": prompt}\n",
    "        ]\n",
    "    )\n",
    "    \n",
    "    raw_output = response['choices'][0]['message']['content'].strip()\n",
    "    keyword_list = [kw.strip() for kw in raw_output.split(\",\")]\n",
    "    return keyword_list"
   ]
  },
  {
   "cell_type": "code",
   "execution_count": 15,
   "id": "e73d3b19",
   "metadata": {},
   "outputs": [
    {
     "name": "stdout",
     "output_type": "stream",
     "text": [
      "['flower pattern sunglasses', 'floral wide-brim hat', 'beach towel with floral design', 'white travel accessories', 'bunny-themed travel gear']\n"
     ]
    }
   ],
   "source": [
    "print(sentiment_analysis_without_keyword(chat_histories, user_data))"
   ]
  },
  {
   "cell_type": "code",
   "execution_count": 28,
   "id": "c77283f4",
   "metadata": {},
   "outputs": [],
   "source": [
    "def generate_recommendation_without_keyword(chat_histories, user_data):\n",
    "    search_keyword_list = sentiment_analysis_without_keyword(chat_histories, user_data)\n",
    "    serpapi_list = []\n",
    "\n",
    "    for search_keyword in search_keyword_list:\n",
    "        serpapi_list.append(google_shopping_search(search_keyword, 1))\n",
    "\n",
    "    return serpapi_list"
   ]
  },
  {
   "cell_type": "code",
   "execution_count": 29,
   "id": "a97276c0",
   "metadata": {},
   "outputs": [
    {
     "name": "stdout",
     "output_type": "stream",
     "text": [
      "[[{'name': 'Tropical Floral Aviator Sunglasses', 'product_url': 'https://www.ebay.com/itm/224622594131?chn=ps&mkevt=1&mkcid=28&var=523440637840&google_free_listing_action=view_item&srsltid=AfmBOopUIGl-521xuOblHIwU29i4YkffdqM_HFyEJJkmaGmStG7joMy4bTU', 'shop_name': 'Online marketplace', 'img_url': 'https://encrypted-tbn3.gstatic.com/shopping?q=tbn:ANd9GcRKjjdvZCB-aJZ0RfawjvkEDGhMTxH_4tzqsc_Qe2KSvZIX5onMFYy0DalIB2ZBvxJ8Smv1sxKSbJbbyJ1k-mAT0HOLEIMiECKNhgIkbdN3x0xYUemcJzRC&usqp=CAE', 'price': '$11.54'}], [{'name': 'Wide brim UV protection visor sun hat', 'product_url': 'https://shopee.sg/product/25614013/2589667176?gads_t_sig=VTJGc2RHVmtYMTlxTFVSVVRrdENkYkVsYzY3b1A0bldEa1JSdzVkOFJGYVcza01zT0lKNVEvWHhXRHkzci91NnRjdTZoR2l3TnRzdGxqb3FBRTJVY1NUMUYrZTZ0UDlNKzNxazBVOXo5NW9yc2s1a3Z5WENoYTZFTzhncGdTTHg', 'shop_name': 'E-commerce platform', 'img_url': 'https://encrypted-tbn0.gstatic.com/shopping?q=tbn:ANd9GcQhPfGms_jD7JqDZMguDk-hu9jhHudCp57xe25_pWdSRMkWf-EmjvEF7aBo4cJArf8T2L-Ahy6i3zVpdKxTGteih4Ii0s_noRtuA0Is3Ic&usqp=CAE', 'price': '$4.56'}], [{'name': 'Pink peony print beach towel \"Peonies\".', 'product_url': 'https://katenazart.com/shop/merchandise/flower-collection-merch/beach-towel-with-the-print-of-the-pink-peony-flowers-peonies/?srsltid=AfmBOooXMERZt_1DXYoA6cFuUX_Dt-K-NqR_s5v21ypya3Kjxa3Zhb2Fw8o', 'shop_name': 'Art', 'img_url': 'https://encrypted-tbn2.gstatic.com/shopping?q=tbn:ANd9GcT-x8CsEDKuNzOt8J01oiugtBxFzWXSW2LpYi_aJ01pUiImK3zBqYURxyR1Q0J42FrcGmQApA3oaMaOiBOubSdTbtq9ILBl0GrsadfEjqFT&usqp=CAE', 'price': '$56.95'}], [{'name': 'Easter Bunny Costume Accessories: Headband, Bowtie', 'product_url': 'https://shopee.sg/product/479581428/27381449006?gads_t_sig=VTJGc2RHVmtYMTlxTFVSVVRrdENkY0N5akVpcE5OamJEdjRRTHBOTzhmazNyQUFDOUlHVkp5YWZGN2Y4OEJHd3grOFVsYjlhTHpiY1l6cmhYRUR6SHp2NFdaemU3dlFVRkFEN2NkRkRBLytUd3F5T1RKT1ZFT1BRRHJEQisrdlk', 'shop_name': 'Shopping platform', 'img_url': 'https://encrypted-tbn0.gstatic.com/shopping?q=tbn:ANd9GcRVLzec1HLtQL_BcJ7vrV_pBTwgQSUe3RckdeUKMzk5tPKOSnRzR2JAIpvqPQyO2_cVxuB3CiNUO5_TKfHq77_kzUcdg5N4mDT8eE-ZQ2X8nx4nIRww0buO&usqp=CAE', 'price': '$5.58'}], [{'name': 'AiRunTech Waterproof Phone Pouch, 4-Piece Set.', 'product_url': 'https://snapklik.com/en-sg/product/airuntech-waterproof-phone-pouch-cruise-essentials-4-piece-set-beach-vacation-kayak-cruise-accessories-must-haves-waterproof-bag-for-travel-with-phone-lanyard-2-phone-cases-2-fanny-packs/0PRR4PR7UK7X5?srsltid=AfmBOoq3vCMNUYpTOGeK5aTKUsXHc2KWLlxWtIla_kLNdHJX8THDHgsme2U', 'shop_name': 'Snapklik Singapore', 'img_url': 'https://encrypted-tbn0.gstatic.com/shopping?q=tbn:ANd9GcRGgaMY5sGMUD3mU96NP_y3byAY9fYBXUA6-2Z3n73GP7WObRY1IT79opZar6S0pzFxYkJ6QZO6MS1oTO9LsxwNp4kUTZnSEgH6vYQpIJPXRPxU_F-jWTJqJA&usqp=CAE', 'price': '$46.14'}]]\n"
     ]
    }
   ],
   "source": [
    "print(generate_recommendation_without_keyword(chat_histories, user_data))"
   ]
  }
 ],
 "metadata": {
  "kernelspec": {
   "display_name": "venv",
   "language": "python",
   "name": "python3"
  },
  "language_info": {
   "codemirror_mode": {
    "name": "ipython",
    "version": 3
   },
   "file_extension": ".py",
   "mimetype": "text/x-python",
   "name": "python",
   "nbconvert_exporter": "python",
   "pygments_lexer": "ipython3",
   "version": "3.12.4"
  }
 },
 "nbformat": 4,
 "nbformat_minor": 5
}
